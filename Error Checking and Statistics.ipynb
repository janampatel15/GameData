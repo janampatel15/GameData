{
 "cells": [
  {
   "cell_type": "markdown",
   "metadata": {},
   "source": [
    "<h1>Error Checking and Stats</h1>\n",
    "<hr>\n",
    "<p>To evaluate how much we were able to collect we're going to explore our final json we created</p>"
   ]
  },
  {
   "cell_type": "code",
   "execution_count": 42,
   "metadata": {},
   "outputs": [],
   "source": [
    "import json\n",
    "\n",
    "with open(\"data/fdata/final.json\", \"r\") as read_file:\n",
    "    final = json.load(read_file)"
   ]
  },
  {
   "cell_type": "code",
   "execution_count": 49,
   "metadata": {},
   "outputs": [
    {
     "name": "stdout",
     "output_type": "stream",
     "text": [
      "3ds: 517 / 1014 = 0.51      51% missing\n",
      "dreamcast: 9 / 226 = 0.04      4% missing\n",
      "gameboy: 63 / 462 = 0.14      14% missing\n",
      "gamecube: 13 / 132 = 0.1      10% missing\n",
      "gba: 224 / 893 = 0.25      25% missing\n",
      "gbc: 227 / 432 = 0.53      53% missing\n",
      "genesis: 59 / 652 = 0.09      9% missing\n",
      "n64: 4 / 276 = 0.01      1% missing\n",
      "nds: 526 / 1664 = 0.32      32% missing\n",
      "nes: 149 / 857 = 0.17      17% missing\n",
      "ps1: 194 / 1216 = 0.16      16% missing\n",
      "ps2: 146 / 1678 = 0.09      9% missing\n",
      "psp: 24 / 157 = 0.15      15% missing\n",
      "snes: 45 / 693 = 0.06      6% missing\n",
      "wii: 285 / 1215 = 0.23      23% missing\n"
     ]
    }
   ],
   "source": [
    "totnull = 0\n",
    "totval = 0\n",
    "for key, value in final.items() :\n",
    "    print(key,end=\": \")\n",
    "    nullval = 0\n",
    "    totalvals = 0\n",
    "    for key,value in final[key].items():\n",
    "        if value == \"No Results\":\n",
    "            nullval+=1\n",
    "            totnull+=1\n",
    "        totalvals+=1\n",
    "        totval+=1\n",
    "    div = \"{:.2f}\".format(nullval/totalvals)\n",
    "    div = float(div)\n",
    "    print(nullval,\"/\",totalvals,\"=\",div,\"    \",str(int(div*100))+\"% missing\")"
   ]
  },
  {
   "cell_type": "code",
   "execution_count": 50,
   "metadata": {},
   "outputs": [
    {
     "name": "stdout",
     "output_type": "stream",
     "text": [
      "Total: 2485 / 11567 = 0.21      21% missing\n"
     ]
    }
   ],
   "source": [
    "div = \"{:.2f}\".format(totnull/totval)\n",
    "div = float(div)\n",
    "print(\"Total\",end=\": \")\n",
    "print(totnull,\"/\",totval,\"=\",div,\"    \",str(int(div*100))+\"% missing\")\n"
   ]
  },
  {
   "cell_type": "code",
   "execution_count": null,
   "metadata": {},
   "outputs": [],
   "source": []
  }
 ],
 "metadata": {
  "kernelspec": {
   "display_name": "Python 3",
   "language": "python",
   "name": "python3"
  },
  "language_info": {
   "codemirror_mode": {
    "name": "ipython",
    "version": 3
   },
   "file_extension": ".py",
   "mimetype": "text/x-python",
   "name": "python",
   "nbconvert_exporter": "python",
   "pygments_lexer": "ipython3",
   "version": "3.8.3"
  }
 },
 "nbformat": 4,
 "nbformat_minor": 4
}
