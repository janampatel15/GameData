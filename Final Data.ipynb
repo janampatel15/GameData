{
 "cells": [
  {
   "cell_type": "markdown",
   "metadata": {},
   "source": [
    "# csv to json\n",
    "Now all the data we've collected in CSV files goes into one giant dictionary. Console name will be used as the parent key. The Parent key will contain dictionary as values, here the name of the games are used as key. The game names are obtained from __'console*'.csv__. Each game title will have values of \n",
    "\n",
    "['title','type','description','source','initial_release_date','developer','composer','series','publisher','platforms'] \n",
    "\n",
    "where each of them have value from __'console*'Results.csv.__\n"
   ]
  },
  {
   "cell_type": "markdown",
   "metadata": {},
   "source": [
    "#### First we Get all the csv's in the directory\n",
    "All the files paths we get, have it sorted and stored in __s__."
   ]
  },
  {
   "cell_type": "code",
   "execution_count": 1,
   "metadata": {},
   "outputs": [],
   "source": [
    "from glob import glob\n",
    "import re\n",
    "s=sorted(glob('data/fdata/*.csv'))\n"
   ]
  },
  {
   "cell_type": "markdown",
   "metadata": {},
   "source": [
    "We then split the filepaths to get only file names. We store the filenames in list called __\"files\"__."
   ]
  },
  {
   "cell_type": "code",
   "execution_count": 2,
   "metadata": {},
   "outputs": [
    {
     "data": {
      "text/plain": [
       "['3ds',\n",
       " '3dsResults',\n",
       " 'dreamcast',\n",
       " 'dreamcastResults',\n",
       " 'gameboy',\n",
       " 'gameboyResults',\n",
       " 'gamecube',\n",
       " 'gamecubeResults',\n",
       " 'gba',\n",
       " 'gbaResults',\n",
       " 'gbc',\n",
       " 'gbcResults',\n",
       " 'genesis',\n",
       " 'genesisResults',\n",
       " 'n64',\n",
       " 'n64Results',\n",
       " 'nds',\n",
       " 'ndsResults',\n",
       " 'nes',\n",
       " 'nesResults',\n",
       " 'ps1',\n",
       " 'ps1Results',\n",
       " 'ps2',\n",
       " 'ps2Results',\n",
       " 'psp',\n",
       " 'pspResults',\n",
       " 'snes',\n",
       " 'snesResults',\n",
       " 'wii',\n",
       " 'wiiResults']"
      ]
     },
     "execution_count": 2,
     "metadata": {},
     "output_type": "execute_result"
    }
   ],
   "source": [
    "files=[]\n",
    "for i in s:\n",
    "    files.append(re.split('/|\\.',i)[2])\n",
    "files"
   ]
  },
  {
   "cell_type": "markdown",
   "metadata": {},
   "source": [
    "#### Next.\n",
    "The csv cell size for some files were too large so we had to increase the size. "
   ]
  },
  {
   "cell_type": "code",
   "execution_count": 3,
   "metadata": {},
   "outputs": [],
   "source": [
    "import sys\n",
    "import csv\n",
    "\n",
    "maxInt = sys.maxsize\n",
    "while True:\n",
    "    try:\n",
    "        csv.field_size_limit(maxInt)\n",
    "        break\n",
    "    except OverflowError:\n",
    "        maxInt = int(maxInt/10)"
   ]
  },
  {
   "cell_type": "markdown",
   "metadata": {},
   "source": [
    "# Showtime\n",
    "1. We start by declaring things we want from the 'console*'Results.csv, so that would be  'title','type','description','source','editorial_reviews','initial_release_date','developer','composer','series','publisher','platforms' and store that in list called __things__. (Creative name I know)\n",
    "\n",
    "\n",
    "2. Now we use a loop with counter set in range for amount of files in __files__ list. Here all 'even' number files contains console name, game name and some of them have release year as well. And all the 'odd' numbers are files that contains the json data. Since we have the files already sorted, it'd stay like that.\n",
    "\n",
    "\n",
    "3. Inside the loop, we have conditional statement. Where it checks if the counter is even or odd.\n",
    "    \n",
    "    __a.__ If the counter is even, it'll first open the file that's at that index for __files__ list (ex: dreamcast.csv). As mentioned earlier the files here contains console name, game name and some of them have release year as well. We get all the game names and append it to the __game_ti__ list. \n",
    "\n",
    "    __b.__ If the counter is odd, it'll first open the file that's at that index for __files__ list (ex: dreamcastResults.csv). Again, as mentioned earlier the files here contains json data. Then we have resTest which reads the *Results.csv file.\n",
    "\n",
    "        b1. Now, we use another loop where counter is in range of game_ti list. The *Results.csv file, should have these games, some might not be avaliable. \n",
    "        \n",
    "        b2. If game title is not avalaible in *Results.csv then it returns \"No Results\".\n",
    "        \n",
    "        b3. If game title is avalaible, then it'll try and search for all the items that we want. (items from the thing list.) If an item from list isn't avaliable, it'll return \"Data Not Available\" \n",
    "\n",
    "4. After All the searching for items, we add that to dic. After adding it to dic, we empty it the __title__, __indic__ and __game_ti__. So, that we can add new values to it and add that to dic again.\n",
    "\n",
    "\n",
    "5. Now the final step, we add the __dic__ to __console_dict__. "
   ]
  },
  {
   "cell_type": "code",
   "execution_count": 4,
   "metadata": {},
   "outputs": [],
   "source": [
    "indic,console_dict={},{}\n",
    "things=['title','type','description','source','editorial_reviews','initial_release_date','developer','composer','series','publisher','platforms']\n",
    "\n",
    "\n",
    "for f in range(len(files)):\n",
    "    if (f%2!=0):\n",
    "#         print(f,len(game_ti))\n",
    "        with open('data/fdata/'+files[f]+'.csv', newline='', encoding=\"utf-8\") as csvfile:\n",
    "            resTest = csv.reader(csvfile)\n",
    "            resTest = list(resTest)\n",
    "            resTest = resTest[0]\n",
    "            for i in range(len(game_ti)):\n",
    "                try:\n",
    "                    test=eval((resTest[i]))\n",
    "                    for j in things:\n",
    "                        try:\n",
    "                            indic[j]=test[j]\n",
    "                            dic[game_ti[i]]=indic\n",
    "                        except:                \n",
    "                            indic[j]=\"Data Not Available\"\n",
    "                except:\n",
    "                    dic[game_ti[i]]=\"No Results\"\n",
    "                indic={}\n",
    "            game_ti=[] \n",
    "    else:\n",
    "#         print(f,\"skip\")\n",
    "        game_ti=[]\n",
    "        with open('data/fdata/'+files[f]+'.csv','r') as csvfile:\n",
    "            reader = csv.reader(csvfile, delimiter=',')\n",
    "            for row in reader:\n",
    "                game_ti.append(row[1])\n",
    "            dic={}\n",
    "            console_dict[files[f]]=dic\n",
    "            "
   ]
  },
  {
   "cell_type": "markdown",
   "metadata": {},
   "source": [
    "# The End\n",
    "Now that everything is done, we can dump the __console_dict__ into a file. You can print it here as well, but around 200k line printing would be bad idea."
   ]
  },
  {
   "cell_type": "code",
   "execution_count": 6,
   "metadata": {},
   "outputs": [],
   "source": [
    "import json\n",
    "with open(\"data/Fdata/final.json\",'w') as f:\n",
    "    json.dump(console_dict,f,indent=2)"
   ]
  },
  {
   "cell_type": "code",
   "execution_count": null,
   "metadata": {},
   "outputs": [],
   "source": []
  }
 ],
 "metadata": {
  "kernelspec": {
   "display_name": "Python 3",
   "language": "python",
   "name": "python3"
  },
  "language_info": {
   "codemirror_mode": {
    "name": "ipython",
    "version": 3
   },
   "file_extension": ".py",
   "mimetype": "text/x-python",
   "name": "python",
   "nbconvert_exporter": "python",
   "pygments_lexer": "ipython3",
   "version": "3.8.3"
  }
 },
 "nbformat": 4,
 "nbformat_minor": 4
}
